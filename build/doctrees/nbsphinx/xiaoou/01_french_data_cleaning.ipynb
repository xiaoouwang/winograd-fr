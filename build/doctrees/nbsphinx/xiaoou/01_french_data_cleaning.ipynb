{
 "cells": [
  {
   "cell_type": "markdown",
   "metadata": {
    "pycharm": {
     "name": "#%% md\n"
    }
   },
   "source": [
    "# French data cleaning"
   ]
  },
  {
   "cell_type": "markdown",
   "metadata": {
    "collapsed": false,
    "pycharm": {
     "name": "#%% md\n"
    }
   },
   "source": [
    "## Previously by Olga et Pascal\n",
    "\n",
    "Le fichier csv `pmi_frwac.csv` n'est pas très visible et contient trop d'informations."
   ]
  },
  {
   "cell_type": "code",
   "execution_count": 13,
   "metadata": {
    "collapsed": false,
    "pycharm": {
     "name": "#%%\n"
    }
   },
   "outputs": [],
   "source": [
    "# append custom functions created by xiaoou to path\n",
    "import os,sys,inspect\n",
    "# current_dir = os.path.dirname(os.path.abspath(inspect.getfile(inspect.currentframe())))\n",
    "# parent_dir = os.path.dirname(current_dir)\n",
    "# # set and add script directory\n",
    "# source_dir = os.path.join(parent_dir,\"src_page\")\n",
    "# sys.path.insert(0,source_dir)\n",
    "# set data directory\n",
    "data_dir = r\"../../../data/french/\"\n",
    "import pandas as pd\n",
    "import numpy as np\n",
    "import importlib\n",
    "import sys\n",
    "importlib.reload(sys.modules[\"utils_xo\"])\n",
    "from utils_xo import *"
   ]
  },
  {
   "cell_type": "code",
   "execution_count": 33,
   "metadata": {
    "collapsed": false,
    "pycharm": {
     "name": "#%%\n"
    }
   },
   "outputs": [],
   "source": [
    "fr_pmi_ancien_alt = xo_cleanfrwac_alt(data_dir+\"pmi_frwac.csv\")\n",
    "xo_write_json(data_dir+\"pmi_frwac_alt.json\",fr_pmi_ancien_alt)"
   ]
  },
  {
   "cell_type": "markdown",
   "metadata": {
    "collapsed": false
   },
   "source": [
    "## Manual correction\n",
    "\n",
    "J'ai dû corriger des fautes de natures très diverses (manque d'espace, problèmes de case) dans le fichier json, ce qui donne lieu à `pmi_frwac_alt_corrected` qui comprend tous les schémas dont il est possible de créer des paires de question/réponse."
   ]
  },
  {
   "cell_type": "code",
   "execution_count": 16,
   "metadata": {
    "collapsed": false,
    "pycharm": {
     "name": "#%%\n"
    }
   },
   "outputs": [],
   "source": [
    "pmi_corrected = pd.read_json(data_dir+\"pmi_frwac_alt_corrected.json\")\n",
    "\n",
    "# print(pmi_corrected.shape)\n",
    "\n",
    "# pmi_corrected.head()"
   ]
  },
  {
   "cell_type": "markdown",
   "metadata": {
    "collapsed": false
   },
   "source": [
    "## Add the alt information to the json as `pmi_able`"
   ]
  },
  {
   "cell_type": "code",
   "execution_count": 17,
   "metadata": {
    "collapsed": false,
    "pycharm": {
     "name": "#%%\n"
    }
   },
   "outputs": [],
   "source": [
    "# rename type to pmi_able and change alt to 1\n",
    "pmi_corrected.rename(columns={\"type\":\"pmi_able\"},inplace=True)\n",
    "pmi_corrected['pmi_able'].replace(\"alt\",1,inplace=True)\n",
    "pmi_corrected.head()\n",
    "# rewrite to json file\n",
    "xo_write_json(data_dir+\"pmi_frwac_alt_corrected.json\",pmi_corrected)"
   ]
  },
  {
   "cell_type": "code",
   "execution_count": 25,
   "metadata": {
    "collapsed": false,
    "pycharm": {
     "name": "#%%\n"
    }
   },
   "outputs": [],
   "source": [
    "# J'ai oublie d'ajouter les colonnes special et alternate, du coup je les rajoute ici\n",
    "\n",
    "pmi_corrected\n",
    "# read alt json\n",
    "complement = xo_read_json(data_dir+\"pmi_frwac_alt.json\")\n",
    "complement[:3]\n",
    "for i,row in pmi_corrected.iterrows():\n",
    "    for item in complement:\n",
    "        if row[\"schema\"] == item[\"schema\"]:\n",
    "            pmi_corrected.loc[i,\"special\"] = item[\"special\"]\n",
    "            pmi_corrected.loc[i,\"alternate\"] = item[\"alternate\"]"
   ]
  },
  {
   "cell_type": "code",
   "execution_count": 28,
   "metadata": {
    "collapsed": false,
    "pycharm": {
     "name": "#%%\n"
    }
   },
   "outputs": [],
   "source": [
    "# reorder columns\n",
    "pmi_corrected = pmi_corrected[\"schema pmi_able nb_npropre r0 r1 special alternate question\".split()]\n",
    "pmi_corrected.head()\n",
    "xo_write_json(data_dir+\"pmi_frwac_alt_corrected.json\",pmi_corrected)"
   ]
  },
  {
   "cell_type": "code",
   "execution_count": 32,
   "metadata": {
    "collapsed": false,
    "pycharm": {
     "name": "#%%\n"
    }
   },
   "outputs": [
    {
     "name": "stdout",
     "output_type": "stream",
     "text": [
      "[\r\n",
      "  {\r\n",
      "    \"schema\": \"1\",\r\n",
      "    \"pmi_able\": 1,\r\n",
      "    \"nb_npropre\": 0,\r\n",
      "    \"r0\": \"coupe\",\r\n",
      "    \"r1\": \"valise\",\r\n",
      "    \"special\": \"grand\",\r\n",
      "    \"alternate\": \"petit\",\r\n",
      "    \"question\": \"Qu'est-ce qui est trop grand\\/petit ?\"\r\n",
      "  },\r\n",
      "  {\r\n",
      "    \"schema\": \"2\",\r\n",
      "    \"pmi_able\": 1,\r\n",
      "    \"nb_npropre\": 2,\r\n",
      "    \"r0\": \"Paul\",\r\n",
      "    \"r1\": \"Georges\",\r\n",
      "    \"special\": \"réussir\",\r\n",
      "    \"alternate\": \"répondre\",\r\n",
      "    \"question\": \"Qui n'a pas réussi\\/n'a pas répondu ?\"\r\n"
     ]
    }
   ],
   "source": [
    "!head -20 ../../../data/french/pmi_frwac_alt_corrected.json"
   ]
  }
 ],
 "metadata": {
  "kernelspec": {
   "display_name": "Python3",
   "language": "python",
   "name": "base"
  },
  "language_info": {
   "codemirror_mode": {
    "name": "ipython",
    "version": 3
   },
   "file_extension": ".py",
   "mimetype": "text/x-python",
   "name": "python",
   "nbconvert_exporter": "python",
   "pygments_lexer": "ipython3",
   "version": "3.7.6-final"
  }
 },
 "nbformat": 4,
 "nbformat_minor": 2
}
