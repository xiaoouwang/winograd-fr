{
 "cells": [
  {
   "cell_type": "markdown",
   "metadata": {
    "collapsed": false
   },
   "source": [
    "# Towards a full version of french wino (split schemas)\n",
    "\n",
    "Le but c'est de diviser les schémas en deux catégories : pmi-able et non."
   ]
  },
  {
   "cell_type": "code",
   "execution_count": 5,
   "metadata": {
    "collapsed": true
   },
   "outputs": [],
   "source": [
    "import os,sys,inspect\n",
    "import pandas as pd\n",
    "import numpy as np\n",
    "import importlib\n",
    "import sys\n",
    "from utils_xo import *\n",
    "importlib.reload(sys.modules[\"utils_xo\"])\n",
    "from utils_xo import *\n",
    "# set data directory\n",
    "data_dir = r\"../../../data/french/\""
   ]
  },
  {
   "cell_type": "code",
   "execution_count": 118,
   "metadata": {
    "collapsed": false,
    "pycharm": {
     "name": "#%%\n"
    }
   },
   "outputs": [],
   "source": [
    "version_no_id = xo_read_json(data_dir+\"pmi_frwac_alt_corrected.json\")"
   ]
  },
  {
   "cell_type": "code",
   "execution_count": 119,
   "metadata": {
    "collapsed": false,
    "pycharm": {
     "name": "#%%\n"
    }
   },
   "outputs": [],
   "source": [
    "## add english id from the xml file\n",
    "import xml.etree.ElementTree as ET\n",
    "import re\n",
    "tree = ET.parse(data_dir + 'winograd_fr_v2.xml')\n",
    "root = tree.getroot()"
   ]
  },
  {
   "cell_type": "code",
   "execution_count": 120,
   "metadata": {
    "collapsed": false,
    "pycharm": {
     "name": "#%%\n"
    }
   },
   "outputs": [],
   "source": [
    "#! create the french-english correspondence\n",
    "ids_fr_en = {}\n",
    "for elem in root.findall(\"./\"):\n",
    "    french_id = elem.attrib['id']\n",
    "    english_id = elem.attrib['engn']\n",
    "    ids_fr_en[french_id] = english_id\n",
    "    # for subelem in elem:\n",
    "        # print(subelem.attrib['id'])"
   ]
  },
  {
   "cell_type": "code",
   "execution_count": 121,
   "metadata": {
    "collapsed": false,
    "pycharm": {
     "name": "#%%\n"
    }
   },
   "outputs": [
    {
     "name": "stdout",
     "output_type": "stream",
     "text": [
      "28\n",
      "28\n"
     ]
    }
   ],
   "source": [
    "#! check if each french is in the xml file\n",
    "#? get all the french schemas in the json\n",
    "schemas_json = []\n",
    "for wino in version_no_id:\n",
    "    schemas_json.append(wino['schema'])\n",
    "#? check if each schema in json is in xml\n",
    "for fr_schema in schemas_json:\n",
    "    if fr_schema not in ids_fr_en:\n",
    "        print(fr_schema)\n",
    "\n",
    "# 81 28s 28a all corrected by hand"
   ]
  },
  {
   "cell_type": "code",
   "execution_count": 122,
   "metadata": {
    "collapsed": false,
    "pycharm": {
     "name": "#%%\n"
    }
   },
   "outputs": [],
   "source": [
    "#! add the id to json dict\n",
    "for schema in version_no_id:\n",
    "    if schema[\"schema\"] != 28:\n",
    "        schema[\"id\"] = str(ids_fr_en[schema[\"schema\"]])"
   ]
  },
  {
   "cell_type": "code",
   "execution_count": 43,
   "metadata": {
    "collapsed": false,
    "pycharm": {
     "name": "#%%\n"
    }
   },
   "outputs": [],
   "source": [
    "#! drop schema key\n",
    "# for schema in version_no_id:\n",
    "#     schema.pop(\"schema\",None)"
   ]
  },
  {
   "cell_type": "code",
   "execution_count": 59,
   "metadata": {
    "collapsed": false,
    "pycharm": {
     "name": "#%%\n"
    }
   },
   "outputs": [],
   "source": []
  },
  {
   "cell_type": "code",
   "execution_count": 123,
   "metadata": {
    "collapsed": false,
    "pycharm": {
     "name": "#%%\n"
    }
   },
   "outputs": [],
   "source": [
    "version_id_no000 = []\n",
    "for di in version_no_id:\n",
    "    if di[\"id\"] != \"000\":\n",
    "        version_id_no000.append(di)\n",
    "for di in version_id_no000:\n",
    "    di[\"id\"] = int(di[\"id\"])\n",
    "versions_id_ordered = sorted(version_id_no000,key=lambda x : x[\"id\"])"
   ]
  },
  {
   "cell_type": "code",
   "execution_count": 124,
   "metadata": {
    "collapsed": false,
    "pycharm": {
     "name": "#%%\n"
    }
   },
   "outputs": [],
   "source": [
    "for dt in versions_id_ordered:\n",
    "    dt[\"french_schema_no\"] = dt[\"schema\"]\n",
    "    dt.pop(\"schema\",None)"
   ]
  },
  {
   "cell_type": "code",
   "execution_count": 126,
   "metadata": {
    "collapsed": false,
    "pycharm": {
     "name": "#%%\n"
    }
   },
   "outputs": [],
   "source": [
    "versions_id_ordered\n",
    "#! make id the first key\n",
    "version_id_ordered = [{\"id\": di[\"id\"], **di} for di in versions_id_ordered]"
   ]
  },
  {
   "cell_type": "code",
   "execution_count": 135,
   "metadata": {
    "collapsed": false,
    "pycharm": {
     "name": "#%%\n"
    }
   },
   "outputs": [
    {
     "data": {
      "text/plain": [
       "[{'id': 1,\n",
       "  'pmi_able': 1,\n",
       "  'nb_npropre': 0,\n",
       "  'r0': 'conseillers municipaux',\n",
       "  'r1': 'manifestants',\n",
       "  'special': 'craignait',\n",
       "  'alternate': 'pronait',\n",
       "  'question': 'Qui prônait la violence ?',\n",
       "  'french_schema_no': '58'},\n",
       " {'id': 3,\n",
       "  'pmi_able': 1,\n",
       "  'nb_npropre': 0,\n",
       "  'r0': 'coupe',\n",
       "  'r1': 'valise',\n",
       "  'special': 'grand',\n",
       "  'alternate': 'petit',\n",
       "  'question': \"Qu'est-ce qui est trop grand/petit ?\",\n",
       "  'french_schema_no': '1'},\n",
       " {'id': 5,\n",
       "  'pmi_able': 1,\n",
       "  'nb_npropre': 2,\n",
       "  'r0': 'Claire',\n",
       "  'r1': 'Suzanne',\n",
       "  'special': 'demandé',\n",
       "  'alternate': 'consacré',\n",
       "  'question': 'Qui a demandé du temps ?',\n",
       "  'french_schema_no': '59'}]"
      ]
     },
     "execution_count": 135,
     "metadata": {},
     "output_type": "execute_result"
    }
   ],
   "source": [
    "version_id_ordered[:3]"
   ]
  },
  {
   "cell_type": "code",
   "execution_count": 133,
   "metadata": {
    "collapsed": false,
    "pycharm": {
     "name": "#%%\n"
    }
   },
   "outputs": [],
   "source": [
    "# xo_write_json(data_dir+\"pmi_frwac_withid.json\",version_id_ordered)\n",
    "with open(data_dir+\"pmi_frwac_withid.json\", 'w' ,encoding='utf-8') as outfile:\n",
    "    json.dump(version_id_ordered, outfile, ensure_ascii=False)"
   ]
  }
 ],
 "metadata": {
  "kernelspec": {
   "display_name": "Python (myenv)",
   "language": "python",
   "name": "myenv"
  },
  "language_info": {
   "codemirror_mode": {
    "name": "ipython",
    "version": 2
   },
   "file_extension": ".py",
   "mimetype": "text/x-python",
   "name": "python",
   "nbconvert_exporter": "python",
   "pygments_lexer": "ipython2",
   "version": "2.7.6"
  }
 },
 "nbformat": 4,
 "nbformat_minor": 0
}
